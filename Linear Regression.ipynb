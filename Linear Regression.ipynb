{
 "cells": [
  {
   "cell_type": "markdown",
   "metadata": {},
   "source": [
    "### Neural Network - Regression"
   ]
  },
  {
   "cell_type": "markdown",
   "metadata": {},
   "source": [
    "We will be creating a Neural Network that takes two features as input and produes two features as output. Inbetween the input and output layers are the two hidden layers. We will consider that we have 1000 data in our dataset. `train` is the input dataset which is fed into the network and `train_label` is the output dataset which is used to calculate cost and accuracy of the model.\n",
    "\n",
    "The network will always produes `0.5` as ouput. Its not a very helpful function but it lets us learn alot about the different types of activation functions and their uses."
   ]
  },
  {
   "cell_type": "code",
   "execution_count": 16,
   "metadata": {},
   "outputs": [],
   "source": [
    "import numpy as np\n",
    "import tensorflow as tf\n",
    "import matplotlib.pyplot as plot\n",
    "import pandas as pd\n",
    "from sklearn.metrics import accuracy_score\n",
    "tf.logging.set_verbosity(tf.logging.WARN)"
   ]
  },
  {
   "cell_type": "code",
   "execution_count": 17,
   "metadata": {},
   "outputs": [],
   "source": [
    "seed=4\n",
    "np.random.seed(seed)"
   ]
  },
  {
   "cell_type": "markdown",
   "metadata": {},
   "source": [
    "### Preparing dataset"
   ]
  },
  {
   "cell_type": "code",
   "execution_count": 18,
   "metadata": {},
   "outputs": [],
   "source": [
    "train=np.random.rand(1000,2)\n",
    "train_label=np.ones((1000,2))/2"
   ]
  },
  {
   "cell_type": "markdown",
   "metadata": {},
   "source": [
    "We will use 990 of the available dataset for training the network and the remaining 10 for testing."
   ]
  },
  {
   "cell_type": "code",
   "execution_count": 19,
   "metadata": {},
   "outputs": [],
   "source": [
    "x_test=train[-10:,:]\n",
    "y_test=train_label[-10:,:]\n",
    "x_train=train[:-10,:]\n",
    "y_train=train_label[:-10,:]"
   ]
  },
  {
   "cell_type": "markdown",
   "metadata": {},
   "source": [
    "### Tensorflow Architecture"
   ]
  },
  {
   "cell_type": "code",
   "execution_count": 20,
   "metadata": {},
   "outputs": [],
   "source": [
    "x=tf.placeholder(tf.float32)\n",
    "y=tf.placeholder(tf.float32)\n",
    "\n",
    "\n",
    "input_units=2\n",
    "hidden_units=4\n",
    "output_units=2\n",
    "\n",
    "epoches=5\n",
    "batch_size=1\n",
    "learning_rate=0.01\n",
    "\n",
    "w={\n",
    "    'input':tf.Variable(tf.random_normal([input_units,hidden_units], seed=seed)),\n",
    "    'hidden':tf.Variable(tf.random_normal([hidden_units,hidden_units], seed=seed)),\n",
    "    'output':tf.Variable(tf.random_normal([hidden_units,output_units], seed=seed))\n",
    "}\n",
    "\n",
    "b={\n",
    "    'input':tf.Variable(tf.random_normal([hidden_units],seed=seed)),\n",
    "    'hidden':tf.Variable(tf.random_normal([hidden_units],seed=seed)),\n",
    "    'output':tf.Variable(tf.random_normal([output_units],seed=seed))\n",
    "}"
   ]
  },
  {
   "cell_type": "markdown",
   "metadata": {},
   "source": [
    "### Activation Function"
   ]
  },
  {
   "cell_type": "markdown",
   "metadata": {},
   "source": [
    "Lets first discuss `sigmoid` and `relu` activation function learn why, where and when we should use them.\n",
    "The most easy and commonly used is the `Sigmoid/Logistic` activation function.\n",
    "\n",
    "##### sigmoid(x)\n",
    "- It has an output range of (0,1) i.e it maps (-$\\infty$,$\\infty$) to (0,1).\n",
    "- As $x\\to \\infty$ or $x\\to -\\infty$ its affect on the ouput decreases exponentially. \n",
    "- Gradient of function is very small for large value of `x`.\n",
    "- It suffers from `vanishing gradient` problem (the futher the gradient is passed, the smaller it gets. Thus at one point it becomes so small that it has to effect in the calculation of the error which leads to untrained networks.).\n",
    "\n",
    "##### Why?\n",
    "- Its very easy to understand.\n",
    "- Has nomalizing property.\n",
    "- Gradient is easy to calculate.\n",
    "\n",
    "##### Where?\n",
    "- Due to its normalizing property it is used in the output layer of the neural network.\n",
    "- Can be used in the hidden layers of shallow networks.\n",
    "\n",
    "##### When?\n",
    "- Should be in output layer when output of the neural network is expected to be in range of (0,1) which can then be scaled to requried magnitude. Functions similar to sigmoid can be used in the output layer as according to the required output range.\n",
    "\n",
    "\n",
    "Function with similar characteristics are $tan^{-1}(x)$ and $tanh(x)$ and have their own advantages over the other.\n",
    "\n",
    "To solve the vanishing gradient problem `Rectified Linear Unit` or `ReLU` in short\n",
    "\n",
    "##### relu(x)\n",
    "- It has an output range of \\[0,$\\infty$) i.e it maps (-$\\infty$,$\\infty$) to \\[0,$\\infty$).\n",
    "- It solves the vanishing gradient problem by replacing the curve with a straight line.\n",
    "- It suffers from `dying Relu` problem where a negetive values are mapped to 0 causing the node to become inactive and thus no learning takes place which is solved in `Leaky ReLU` and other similar functions.\n",
    "\n",
    "##### Why?\n",
    "- Significantly increases efficieny due to the linearity of the function.\n",
    "- It addresses the vanishing gradient problem.\n",
    "\n",
    "##### Where?\n",
    "- As it rectifies the vanishing gradient problem it is used in the hidden layers of the deep neural network.\n",
    "- Can be used in the output layer when creating a classifier.\n",
    "\n",
    "##### When?\n",
    "- When ever creating deep networks."
   ]
  },
  {
   "cell_type": "markdown",
   "metadata": {},
   "source": [
    "### Computational Graph"
   ]
  },
  {
   "cell_type": "markdown",
   "metadata": {},
   "source": [
    "Since we are creating a regression neural network the use of normalizing activation function (such as `sigmoid`, `arcTan` or `tanh`) at the output layer is __very__ important. It makes sure that all of the calculated values are normalized to `(0,1)`, `(-1,1)`... depending on the function used. If `relu` was used, it would perform `x>0?x:0` and since `x` is returned, it need to be normalized externally. `relu` however can be used internally as cost minimization is used to tune the weights accordingly ,i.e whatever the nodes may output, the neural network learns and adjusts its weights to obtain required output.\n",
    "\n",
    "This is however not required during classification as the __maximum node's index__ is picked which is always a constant and never calculated. Eg, during hand written digit classification, we have 10 output nodes and the node with the greatest value is picked and its index position is returned. It does not matter if the value at the nodes were `-100`, `-0.01` or `81234`. We pick the maximum value and thus always end up with the results as expected. Where as in regression, we always expect a normalized value which is then projected to a required value later.\n",
    "\n",
    "But why use `relu` at all? why not use `sigmoid` or simialr function all the way?\n",
    "The problem with this type of function lies in its shape. As the value of `x` becomes very large or small, its affect on the ouput of the function deminishes and with that the gradient of the function. Thus, in a deep network when propagating the gradient backwards, it sometimes becomes so small that is does not propagate any further than a few layers. Thus, `relu` was created to solve this problem i.e `vanishing gradient problem`."
   ]
  },
  {
   "cell_type": "code",
   "execution_count": 21,
   "metadata": {},
   "outputs": [],
   "source": [
    "hidden_layer_1=tf.matmul(x,w['input'])+b['input']\n",
    "hidden_layer_1=tf.nn.relu(hidden_layer_1)\n",
    "\n",
    "hidden_layer_2=tf.matmul(hidden_layer_1,w['hidden'])+b['hidden']\n",
    "hidden_layer_2=tf.nn.relu(hidden_layer_2)\n",
    "\n",
    "output_layer=tf.matmul(hidden_layer_2,w['output'])+b['output']\n",
    "output_layer=tf.nn.sigmoid(output_layer)"
   ]
  },
  {
   "cell_type": "markdown",
   "metadata": {},
   "source": [
    "### Cost"
   ]
  },
  {
   "cell_type": "markdown",
   "metadata": {},
   "source": [
    "We will be using `Cross entropy` loss function to calculate the cost/loss. `AdamOptimizer` is used to minimize the loss."
   ]
  },
  {
   "cell_type": "code",
   "execution_count": 22,
   "metadata": {},
   "outputs": [],
   "source": [
    "cost=tf.reduce_mean(tf.nn.softmax_cross_entropy_with_logits(logits=output_layer,labels=y))"
   ]
  },
  {
   "cell_type": "markdown",
   "metadata": {},
   "source": [
    "### Optimizer"
   ]
  },
  {
   "cell_type": "code",
   "execution_count": 23,
   "metadata": {},
   "outputs": [],
   "source": [
    "optimizer=tf.train.AdamOptimizer(learning_rate=learning_rate).minimize(cost)"
   ]
  },
  {
   "cell_type": "markdown",
   "metadata": {},
   "source": [
    "### Main"
   ]
  },
  {
   "cell_type": "code",
   "execution_count": 24,
   "metadata": {},
   "outputs": [],
   "source": [
    "init=tf.global_variables_initializer()"
   ]
  },
  {
   "cell_type": "markdown",
   "metadata": {},
   "source": [
    "##### Helper function"
   ]
  },
  {
   "cell_type": "code",
   "execution_count": 25,
   "metadata": {},
   "outputs": [],
   "source": [
    "def create_batch(index):\n",
    "    s=index*batch_size\n",
    "    e=s+batch_size\n",
    "    x_batch=x_train[s:e,:]\n",
    "    y_batch=y_train[s:e]\n",
    "    return x_batch,y_batch"
   ]
  },
  {
   "cell_type": "markdown",
   "metadata": {},
   "source": [
    "### Session"
   ]
  },
  {
   "cell_type": "code",
   "execution_count": 26,
   "metadata": {},
   "outputs": [],
   "source": [
    "ses=tf.Session()\n",
    "ses.run(init)"
   ]
  },
  {
   "cell_type": "markdown",
   "metadata": {},
   "source": [
    "### Train"
   ]
  },
  {
   "cell_type": "code",
   "execution_count": 27,
   "metadata": {},
   "outputs": [
    {
     "name": "stdout",
     "output_type": "stream",
     "text": [
      "epoch:  1  average cost:  0.693162857402\n",
      "epoch:  2  average cost:  0.6931476764\n",
      "epoch:  3  average cost:  0.693147185114\n",
      "epoch:  4  average cost:  0.693147242069\n",
      "epoch:  5  average cost:  0.693147569293\n"
     ]
    },
    {
     "data": {
      "image/png": "[encoded data removed]",
      "text/plain": [
       "<matplotlib.figure.Figure at 0x11c436128>"
      ]
     },
     "metadata": {},
     "output_type": "display_data"
    }
   ],
   "source": [
    "total_batch=int(x_train.shape[0]/batch_size)\n",
    "e=[]\n",
    "for epoch in range(epoches):\n",
    "    avg_cost=0\n",
    "    for i in range(total_batch):\n",
    "        batch_x,batch_y=create_batch(i)\n",
    "        o,c=ses.run([optimizer,cost],feed_dict={x:batch_x,y:batch_y})\n",
    "        avg_cost+=c/total_batch\n",
    "    e.append(avg_cost)\n",
    "    print(\"epoch: \",epoch+1,\" average cost: \",avg_cost)\n",
    "plot.plot(e)\n",
    "plot.xlabel(\"number of epoch\")\n",
    "plot.ylabel(\"average loss\")\n",
    "plot.show()"
   ]
  },
  {
   "cell_type": "markdown",
   "metadata": {},
   "source": [
    "### Prediction"
   ]
  },
  {
   "cell_type": "code",
   "execution_count": 28,
   "metadata": {},
   "outputs": [
    {
     "data": {
      "text/html": [
       "<div>\n",
       "<style scoped>\n",
       "    .dataframe tbody tr th:only-of-type {\n",
       "        vertical-align: middle;\n",
       "    }\n",
       "\n",
       "    .dataframe tbody tr th {\n",
       "        vertical-align: top;\n",
       "    }\n",
       "\n",
       "    .dataframe thead th {\n",
       "        text-align: right;\n",
       "    }\n",
       "</style>\n",
       "<table border=\"1\" class=\"dataframe\">\n",
       "  <thead>\n",
       "    <tr style=\"text-align: right;\">\n",
       "      <th></th>\n",
       "      <th>p_0</th>\n",
       "      <th>p_1</th>\n",
       "      <th>x_0</th>\n",
       "      <th>x_1</th>\n",
       "      <th>y_0</th>\n",
       "      <th>y_1</th>\n",
       "    </tr>\n",
       "  </thead>\n",
       "  <tbody>\n",
       "    <tr>\n",
       "      <th>1</th>\n",
       "      <td>0.554942</td>\n",
       "      <td>0.554977</td>\n",
       "      <td>0.158722</td>\n",
       "      <td>0.612056</td>\n",
       "      <td>0.5</td>\n",
       "      <td>0.5</td>\n",
       "    </tr>\n",
       "    <tr>\n",
       "      <th>2</th>\n",
       "      <td>0.562598</td>\n",
       "      <td>0.562574</td>\n",
       "      <td>0.447591</td>\n",
       "      <td>0.845948</td>\n",
       "      <td>0.5</td>\n",
       "      <td>0.5</td>\n",
       "    </tr>\n",
       "    <tr>\n",
       "      <th>3</th>\n",
       "      <td>0.551668</td>\n",
       "      <td>0.551731</td>\n",
       "      <td>0.415480</td>\n",
       "      <td>0.448498</td>\n",
       "      <td>0.5</td>\n",
       "      <td>0.5</td>\n",
       "    </tr>\n",
       "    <tr>\n",
       "      <th>4</th>\n",
       "      <td>0.561957</td>\n",
       "      <td>0.561936</td>\n",
       "      <td>0.136925</td>\n",
       "      <td>0.874424</td>\n",
       "      <td>0.5</td>\n",
       "      <td>0.5</td>\n",
       "    </tr>\n",
       "    <tr>\n",
       "      <th>5</th>\n",
       "      <td>0.562999</td>\n",
       "      <td>0.562974</td>\n",
       "      <td>0.738024</td>\n",
       "      <td>0.812036</td>\n",
       "      <td>0.5</td>\n",
       "      <td>0.5</td>\n",
       "    </tr>\n",
       "    <tr>\n",
       "      <th>6</th>\n",
       "      <td>0.552815</td>\n",
       "      <td>0.552871</td>\n",
       "      <td>0.599244</td>\n",
       "      <td>0.459854</td>\n",
       "      <td>0.5</td>\n",
       "      <td>0.5</td>\n",
       "    </tr>\n",
       "    <tr>\n",
       "      <th>7</th>\n",
       "      <td>0.552157</td>\n",
       "      <td>0.552219</td>\n",
       "      <td>0.729622</td>\n",
       "      <td>0.413760</td>\n",
       "      <td>0.5</td>\n",
       "      <td>0.5</td>\n",
       "    </tr>\n",
       "    <tr>\n",
       "      <th>8</th>\n",
       "      <td>0.544106</td>\n",
       "      <td>0.544230</td>\n",
       "      <td>0.634510</td>\n",
       "      <td>0.088047</td>\n",
       "      <td>0.5</td>\n",
       "      <td>0.5</td>\n",
       "    </tr>\n",
       "    <tr>\n",
       "      <th>9</th>\n",
       "      <td>0.564889</td>\n",
       "      <td>0.564844</td>\n",
       "      <td>0.111721</td>\n",
       "      <td>0.987038</td>\n",
       "      <td>0.5</td>\n",
       "      <td>0.5</td>\n",
       "    </tr>\n",
       "    <tr>\n",
       "      <th>10</th>\n",
       "      <td>0.553003</td>\n",
       "      <td>0.553058</td>\n",
       "      <td>0.651013</td>\n",
       "      <td>0.458083</td>\n",
       "      <td>0.5</td>\n",
       "      <td>0.5</td>\n",
       "    </tr>\n",
       "  </tbody>\n",
       "</table>\n",
       "</div>"
      ],
      "text/plain": [
       "         p_0       p_1       x_0       x_1  y_0  y_1\n",
       "1   0.554942  0.554977  0.158722  0.612056  0.5  0.5\n",
       "2   0.562598  0.562574  0.447591  0.845948  0.5  0.5\n",
       "3   0.551668  0.551731  0.415480  0.448498  0.5  0.5\n",
       "4   0.561957  0.561936  0.136925  0.874424  0.5  0.5\n",
       "5   0.562999  0.562974  0.738024  0.812036  0.5  0.5\n",
       "6   0.552815  0.552871  0.599244  0.459854  0.5  0.5\n",
       "7   0.552157  0.552219  0.729622  0.413760  0.5  0.5\n",
       "8   0.544106  0.544230  0.634510  0.088047  0.5  0.5\n",
       "9   0.564889  0.564844  0.111721  0.987038  0.5  0.5\n",
       "10  0.553003  0.553058  0.651013  0.458083  0.5  0.5"
      ]
     },
     "execution_count": 28,
     "metadata": {},
     "output_type": "execute_result"
    }
   ],
   "source": [
    "prediction=ses.run(output_layer,{x:x_test})\n",
    "data={'x_0':x_test[:,0],'x_1':x_test[:,1],\n",
    "      'y_0':y_test[:,0],'y_1':y_test[:,1],\n",
    "      'p_0':prediction[:,0],'p_1':prediction[:,1]}\n",
    "df=pd.DataFrame(data=data)\n",
    "df.index+=1\n",
    "df"
   ]
  },
  {
   "cell_type": "markdown",
   "metadata": {},
   "source": [
    "### Accuracy"
   ]
  },
  {
   "cell_type": "code",
   "execution_count": 29,
   "metadata": {},
   "outputs": [
    {
     "name": "stdout",
     "output_type": "stream",
     "text": [
      "accuracy: 0.99681\n"
     ]
    }
   ],
   "source": [
    "score=1-tf.reduce_mean(tf.squared_difference(prediction,y_test))\n",
    "print(\"accuracy:\",ses.run(score))"
   ]
  }
 ],
 "metadata": {
  "kernelspec": {
   "display_name": "Python 3",
   "language": "python",
   "name": "python3"
  },
  "language_info": {
   "codemirror_mode": {
    "name": "ipython",
    "version": 3
   },
   "file_extension": ".py",
   "mimetype": "text/x-python",
   "name": "python",
   "nbconvert_exporter": "python",
   "pygments_lexer": "ipython3",
   "version": "3.6.4"
  }
 },
 "nbformat": 4,
 "nbformat_minor": 2
}
